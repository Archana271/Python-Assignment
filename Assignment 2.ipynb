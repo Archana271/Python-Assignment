{
 "cells": [
  {
   "cell_type": "markdown",
   "id": "98516c12",
   "metadata": {},
   "source": [
    "# 1.Create the below pattern using nested for loop in Python. "
   ]
  },
  {
   "cell_type": "code",
   "execution_count": 3,
   "id": "64ffb7f2",
   "metadata": {},
   "outputs": [
    {
     "name": "stdout",
     "output_type": "stream",
     "text": [
      "* \n",
      "* * \n",
      "* * * \n",
      "* * * * \n",
      "* * * * * \n",
      "* * * * \n",
      "* * * \n",
      "* * \n",
      "* \n"
     ]
    }
   ],
   "source": [
    "n=5\n",
    "for i in range(n):\n",
    "    for j in range(i+1):\n",
    "           print(\"*\",end =\" \")\n",
    "    \n",
    "    print(\"\")\n",
    "\n",
    "for i in range(n-1):            \n",
    "    for j in range(i,n-1): \n",
    "           print (\"*\",end=\" \")\n",
    "        \n",
    "    print(\"\") "
   ]
  },
  {
   "cell_type": "markdown",
   "id": "e5444b83",
   "metadata": {},
   "source": [
    "# 2. Write a Python program to reverse a word after accepting the input from the user. \n",
    "Sample Output: \n",
    "Input word: ineuron \n",
    "Output: norueni\n"
   ]
  },
  {
   "cell_type": "code",
   "execution_count": 2,
   "id": "c31e7c79",
   "metadata": {},
   "outputs": [
    {
     "name": "stdout",
     "output_type": "stream",
     "text": [
      "name  ineuron\n"
     ]
    },
    {
     "data": {
      "text/plain": [
       "'norueni  '"
      ]
     },
     "execution_count": 2,
     "metadata": {},
     "output_type": "execute_result"
    }
   ],
   "source": [
    "a=input(\"name\")\n",
    "\"{}\".format(a[::-1])"
   ]
  },
  {
   "cell_type": "code",
   "execution_count": null,
   "id": "8d51d0d6",
   "metadata": {},
   "outputs": [],
   "source": []
  }
 ],
 "metadata": {
  "kernelspec": {
   "display_name": "Python 3",
   "language": "python",
   "name": "python3"
  },
  "language_info": {
   "codemirror_mode": {
    "name": "ipython",
    "version": 3
   },
   "file_extension": ".py",
   "mimetype": "text/x-python",
   "name": "python",
   "nbconvert_exporter": "python",
   "pygments_lexer": "ipython3",
   "version": "3.8.8"
  }
 },
 "nbformat": 4,
 "nbformat_minor": 5
}
