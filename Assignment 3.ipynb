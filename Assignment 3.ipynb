{
 "cells": [
  {
   "cell_type": "markdown",
   "id": "77cf9ffd",
   "metadata": {},
   "source": [
    "#1.1 Write a Python Program to implement your own myreduce() function which works exactly  like Python's built-in function reduce()\n",
    "\n"
   ]
  },
  {
   "cell_type": "code",
   "execution_count": 20,
   "id": "572e56ff",
   "metadata": {},
   "outputs": [
    {
     "name": "stdout",
     "output_type": "stream",
     "text": [
      "39\n"
     ]
    }
   ],
   "source": [
    "def myreduce(func, l):\n",
    "    return a\n",
    "def func(a,b):\n",
    "    return a+b\n",
    "l=[4,5,6,7,8,9]\n",
    "a=l[0]\n",
    "for i in range (1,len(l)):\n",
    "    b=l[i]\n",
    "    a=func(a,b)\n",
    "print(myreduce(func,l))  "
   ]
  },
  {
   "cell_type": "markdown",
   "id": "e305d81f",
   "metadata": {},
   "source": [
    " #1.2 Write a Python program to implement your own myfilter() function which works exactly  like Python's built-in function filter() "
   ]
  },
  {
   "cell_type": "code",
   "execution_count": 6,
   "id": "9c238913",
   "metadata": {},
   "outputs": [
    {
     "name": "stdout",
     "output_type": "stream",
     "text": [
      "[1, 3, 5, 7, 9]\n"
     ]
    }
   ],
   "source": [
    "def my_filter(func,l):\n",
    "    a=[]\n",
    "    for i in l :\n",
    "        if func(i):\n",
    "            a.append(i)\n",
    "    return a\n",
    "\n",
    "def fun(n):\n",
    "    if n%2!=0 :\n",
    "        return True\n",
    "    else :\n",
    "        return False\n",
    " \n",
    "    \n",
    "\n",
    "l=[1,2,3,4,5,6,7,8,9,10]\n",
    "print(my_filter(fun,l))          "
   ]
  },
  {
   "cell_type": "markdown",
   "id": "4e9d1af4",
   "metadata": {},
   "source": [
    " #2 Implement List comprehensions to produce the following lists. \n",
    "Write List comprehensions to produce the following Lists\n"
   ]
  },
  {
   "cell_type": "markdown",
   "id": "9b20b691",
   "metadata": {},
   "source": [
    "# 2.(a)"
   ]
  },
  {
   "cell_type": "code",
   "execution_count": 9,
   "id": "dd7465f2",
   "metadata": {},
   "outputs": [
    {
     "data": {
      "text/plain": [
       "['x', 'xx', 'xxx', 'xxxx', 'y', 'yy', 'yyy', 'yyyy', 'z', 'zz', 'zzz', 'zzzz']"
      ]
     },
     "execution_count": 9,
     "metadata": {},
     "output_type": "execute_result"
    }
   ],
   "source": [
    "l=[\"x\",\"y\",\"z\"]\n",
    "\n",
    "a=[i for i in l ]\n",
    "b=[i*2 for i in l]\n",
    "c=[i*3 for i in l]\n",
    "d=[i*4 for i in l]\n",
    "\n",
    "k=a+b+c+d\n",
    "k.sort()\n",
    "k"
   ]
  },
  {
   "cell_type": "markdown",
   "id": "824f1484",
   "metadata": {},
   "source": [
    "# 2.(b)"
   ]
  },
  {
   "cell_type": "code",
   "execution_count": 5,
   "id": "eba7cea4",
   "metadata": {},
   "outputs": [
    {
     "data": {
      "text/plain": [
       "['x', 'y', 'z', 'xx', 'yy', 'zz', 'xxx', 'yyy', 'zzz', 'xxxx', 'yyyy', 'zzzz']"
      ]
     },
     "execution_count": 5,
     "metadata": {},
     "output_type": "execute_result"
    }
   ],
   "source": [
    "l=[\"x\",\"y\",\"z\"]\n",
    "\n",
    "a=[i for i in l ]\n",
    "b=[i*2 for i in l]\n",
    "c=[i*3 for i in l]\n",
    "d=[i*4 for i in l]\n",
    "\n",
    "a+b+c+d"
   ]
  },
  {
   "cell_type": "markdown",
   "id": "d59e8eb8",
   "metadata": {},
   "source": [
    "# 2.(c)"
   ]
  },
  {
   "cell_type": "code",
   "execution_count": 142,
   "id": "a6bf9fd5",
   "metadata": {},
   "outputs": [
    {
     "name": "stdout",
     "output_type": "stream",
     "text": [
      "[[2], [3], [4], [3], [4], [5], [4], [5], [6]][[2, 3, 4, 5], [3, 4, 5, 6], [4, 5, 6, 7], [5, 6, 7, 8]]"
     ]
    }
   ],
   "source": [
    "a=[2,3,4,3,4,5,4,5,6]\n",
    "b=[2,3,4,5]\n",
    "c=[3,4,5,6]\n",
    "l=[4,5,6,7]\n",
    "o=[5,6,7,8]\n",
    "\n",
    "f=[[a[0]],[a[1]],[a[2]],[a[3]],[a[4]],[a[5]],[a[6]],[a[7]],[a[8]]]\n",
    "print(f,end='')\n",
    "p=[b,c,l,o]\n",
    "print(p,end='')\n"
   ]
  },
  {
   "cell_type": "markdown",
   "id": "937806f0",
   "metadata": {},
   "source": [
    "# 2.(d)"
   ]
  },
  {
   "cell_type": "code",
   "execution_count": 27,
   "id": "d6ba3ccf",
   "metadata": {},
   "outputs": [
    {
     "data": {
      "text/plain": [
       "[(1, 1), (2, 1), (3, 1), (1, 2), (2, 2), (3, 2), (1, 3), (2, 3), (3, 3)]"
      ]
     },
     "execution_count": 27,
     "metadata": {},
     "output_type": "execute_result"
    }
   ],
   "source": [
    "a=[1,2,3,1,2,3,1,2,3]\n",
    "b=[1,1,1,2,2,2,3,3,3]\n",
    "\n",
    "[(i,j) for i,j in zip(a,b) ]\n"
   ]
  }
 ],
 "metadata": {
  "kernelspec": {
   "display_name": "Python 3",
   "language": "python",
   "name": "python3"
  },
  "language_info": {
   "codemirror_mode": {
    "name": "ipython",
    "version": 3
   },
   "file_extension": ".py",
   "mimetype": "text/x-python",
   "name": "python",
   "nbconvert_exporter": "python",
   "pygments_lexer": "ipython3",
   "version": "3.8.8"
  }
 },
 "nbformat": 4,
 "nbformat_minor": 5
}
