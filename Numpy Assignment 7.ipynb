{
 "cells": [
  {
   "cell_type": "markdown",
   "id": "10ab9940",
   "metadata": {},
   "source": [
    "#Write a function so that the columns of the output matrix are powers of the input\n",
    "vector.\n",
    "The order of the powers is determined by the increasing boolean argument. Specifically, when \n",
    "increasing is False, the i-th output column is the input vector raised element-wise to the power \n",
    "of N - i - 1."
   ]
  },
  {
   "cell_type": "code",
   "execution_count": 6,
   "id": "b3711a31",
   "metadata": {},
   "outputs": [],
   "source": [
    "import numpy as np"
   ]
  },
  {
   "cell_type": "code",
   "execution_count": 14,
   "id": "51b3d082",
   "metadata": {},
   "outputs": [
    {
     "name": "stdout",
     "output_type": "stream",
     "text": [
      "[[   1    1    1    1    1]\n",
      " [  16    8    4    2    1]\n",
      " [  81   27    9    3    1]\n",
      " [ 625  125   25    5    1]\n",
      " [1296  216   36    6    1]]\n"
     ]
    }
   ],
   "source": [
    "# when increasing is False\n",
    "vector = np.array([1, 2, 3, 5,6])\n",
    "n = 5\n",
    "matrix_des=np.matrix([x**(n-i-1) for x in vector for i in range(n)]).reshape(vector.size,n)\n",
    "print(matrix_des)"
   ]
  },
  {
   "cell_type": "code",
   "execution_count": 15,
   "id": "57b442c1",
   "metadata": {},
   "outputs": [
    {
     "name": "stdout",
     "output_type": "stream",
     "text": [
      "[[   1    1    1    1    1]\n",
      " [   1    2    4    8   16]\n",
      " [   1    3    9   27   81]\n",
      " [   1    5   25  125  625]\n",
      " [   1    6   36  216 1296]]\n"
     ]
    }
   ],
   "source": [
    "# when increasing is True\n",
    "vector = np.array([1, 2, 3, 5,6])\n",
    "n = 5\n",
    "matrix_ase=np.matrix([x**i for x in vector for i in range(n)]).reshape(vector.size,n)\n",
    "print(matrix_ase)"
   ]
  },
  {
   "cell_type": "markdown",
   "id": "e6ff7364",
   "metadata": {},
   "source": [
    " Question: Write a function to find moving average in an array over a window:\n",
    " Test it over [3, 5, 7, 2, 8, 10, 11, 65, 72, 81, 99, 100, 150] and window of 3."
   ]
  },
  {
   "cell_type": "code",
   "execution_count": 48,
   "id": "cfa5f88e",
   "metadata": {},
   "outputs": [],
   "source": [
    "x=[3, 5, 7, 2, 8, 10, 11, 65, 72, 81, 99, 100, 150]\n",
    "k=3\n",
    "h=1\n",
    "def movingAvg(x, k):\n",
    "    Avg_out=np.convolve(x, np.ones(k)/k, mode='valid')\n",
    "    for i in Avg_out:\n",
    "        print(\"y{0}={1:.3f}\".format(h,i))\n",
    "        \n"
   ]
  },
  {
   "cell_type": "code",
   "execution_count": 49,
   "id": "567adb17",
   "metadata": {},
   "outputs": [
    {
     "name": "stdout",
     "output_type": "stream",
     "text": [
      "y1=5.000\n",
      "y1=4.667\n",
      "y1=5.667\n",
      "y1=6.667\n",
      "y1=9.667\n",
      "y1=28.667\n",
      "y1=49.333\n",
      "y1=72.667\n",
      "y1=84.000\n",
      "y1=93.333\n",
      "y1=116.333\n"
     ]
    }
   ],
   "source": [
    "movingAvg(x, k) "
   ]
  },
  {
   "cell_type": "code",
   "execution_count": null,
   "id": "8a2f6ac1",
   "metadata": {},
   "outputs": [],
   "source": []
  }
 ],
 "metadata": {
  "kernelspec": {
   "display_name": "Python 3",
   "language": "python",
   "name": "python3"
  },
  "language_info": {
   "codemirror_mode": {
    "name": "ipython",
    "version": 3
   },
   "file_extension": ".py",
   "mimetype": "text/x-python",
   "name": "python",
   "nbconvert_exporter": "python",
   "pygments_lexer": "ipython3",
   "version": "3.8.8"
  }
 },
 "nbformat": 4,
 "nbformat_minor": 5
}
