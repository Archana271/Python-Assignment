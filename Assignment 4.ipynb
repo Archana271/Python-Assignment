{
 "cells": [
  {
   "cell_type": "markdown",
   "id": "89d77615",
   "metadata": {},
   "source": [
    "#1.1 Write a Python Program(with class concepts) to find the area of the triangle using the below \n",
    "formula.\n",
    "area = (s*(s-a)*(s-b)*(s-c)) ** 0.5\n",
    "Function to take the length of the sides of triangle from user should be defined in the parent \n",
    "class and function to calculate the area should be defined in subclass."
   ]
  },
  {
   "cell_type": "code",
   "execution_count": 1,
   "id": "670970cd",
   "metadata": {},
   "outputs": [],
   "source": [
    "class Triangle:\n",
    "    def __init__(self):\n",
    "        self.a=float(input(\"Length of first side a:\"))\n",
    "        self.b=float(input(\"Length of second side b:\"))\n",
    "        self.c=float(input(\"length of third side c:\"))\n"
   ]
  },
  {
   "cell_type": "code",
   "execution_count": 2,
   "id": "6b0aaf53",
   "metadata": {},
   "outputs": [],
   "source": [
    "class Area(Triangle):\n",
    "    def area(self):\n",
    "        s=(self.a+self.b+self.c)/2\n",
    "        area = (s*(s-self.a)*(s-self.b)*(s-self.b)) ** 0.5\n",
    "        print(\"Area of triangle is {}\". format(area))"
   ]
  },
  {
   "cell_type": "code",
   "execution_count": 3,
   "id": "c26dfde1",
   "metadata": {},
   "outputs": [
    {
     "name": "stdout",
     "output_type": "stream",
     "text": [
      "Length of first side a: 9\n",
      "Length of second side b: 10\n",
      "length of third side c: 11\n",
      "Area of triangle is 47.43416490252569\n"
     ]
    }
   ],
   "source": [
    "a=Area()\n",
    "a.area()"
   ]
  },
  {
   "cell_type": "markdown",
   "id": "2bdfe648",
   "metadata": {},
   "source": [
    "#1.2 Write a function filter_long_words() that takes a list of words and an integer n and returns \n",
    "the list of words that are longer than n.\n"
   ]
  },
  {
   "cell_type": "code",
   "execution_count": 51,
   "id": "65b9691a",
   "metadata": {},
   "outputs": [
    {
     "data": {
      "text/plain": [
       "['lambda', 'ineuron', 'summation', 'surname']"
      ]
     },
     "execution_count": 51,
     "metadata": {},
     "output_type": "execute_result"
    }
   ],
   "source": [
    "l=[\"lambda\",\"ineuron\",\"summation\",\"class\",\"name\",\"surname\"] \n",
    "def filter_long_words(l):\n",
    "    m = []\n",
    "    for i in l:\n",
    "        if len(i)> 5:\n",
    "            m.append(i)\n",
    "    return m\n",
    "filter_long_words(l)"
   ]
  },
  {
   "cell_type": "markdown",
   "id": "6d7c7200",
   "metadata": {},
   "source": [
    "#2.1 Write a Python program using function concept that maps list of words into a list of integers \n",
    "representing the lengths of the corresponding words.\n",
    "Hint: If a list [ ab,cde,erty] is passed on to the python function output should come as [2,3,4]\n",
    "Here 2,3 and 4 are the lengths of the words in the list.\n"
   ]
  },
  {
   "cell_type": "code",
   "execution_count": 8,
   "id": "ef295c75",
   "metadata": {},
   "outputs": [
    {
     "data": {
      "text/plain": [
       "[2, 3, 4]"
      ]
     },
     "execution_count": 8,
     "metadata": {},
     "output_type": "execute_result"
    }
   ],
   "source": [
    "a=[\"ab\",\"cde\",\"erty\"] \n",
    "def len_wrd(wrd):\n",
    "    return len(wrd)\n",
    "list(map(len_wrd,a))"
   ]
  },
  {
   "cell_type": "markdown",
   "id": "4e34fd6e",
   "metadata": {},
   "source": [
    "#2.2 Write a Python function which takes a character (i.e. a string of length 1) and returns True if \n",
    "it is a vowel, False otherwise."
   ]
  },
  {
   "cell_type": "code",
   "execution_count": 27,
   "id": "5d9db134",
   "metadata": {},
   "outputs": [],
   "source": [
    "def vowel_check(char):\n",
    "    if char ==\"a\" or char == \"e\" or char == \"i\" or char == \"o\" or char == \"u\":\n",
    "        return True\n",
    "    else:\n",
    "        return False"
   ]
  },
  {
   "cell_type": "code",
   "execution_count": 28,
   "id": "350eb329",
   "metadata": {},
   "outputs": [
    {
     "name": "stdout",
     "output_type": "stream",
     "text": [
      "Enter the character a\n"
     ]
    },
    {
     "data": {
      "text/plain": [
       "True"
      ]
     },
     "execution_count": 28,
     "metadata": {},
     "output_type": "execute_result"
    }
   ],
   "source": [
    "vowel_check(input(\"Enter the character \"))\n"
   ]
  }
 ],
 "metadata": {
  "kernelspec": {
   "display_name": "Python 3",
   "language": "python",
   "name": "python3"
  },
  "language_info": {
   "codemirror_mode": {
    "name": "ipython",
    "version": 3
   },
   "file_extension": ".py",
   "mimetype": "text/x-python",
   "name": "python",
   "nbconvert_exporter": "python",
   "pygments_lexer": "ipython3",
   "version": "3.8.8"
  }
 },
 "nbformat": 4,
 "nbformat_minor": 5
}
